{
 "cells": [
  {
   "cell_type": "code",
   "execution_count": 1,
   "metadata": {},
   "outputs": [],
   "source": [
    "import numpy as np\n",
    "import homework1_5b as hm1b\n",
    "import homework1_5c as hm1c\n",
    "import importlib as im\n",
    "\n",
    "TRAINING_DATA = 'quasar_train.csv'\n",
    "TESTING_DATA  = 'quasar_test.csv'\n",
    "RIGHT_FREQ = 1300\n",
    "LEFT_FREQ  = 1200"
   ]
  },
  {
   "cell_type": "code",
   "execution_count": 2,
   "metadata": {
    "collapsed": true
   },
   "outputs": [],
   "source": [
    "def load_csv(file):\n",
    "    return np.loadtxt(file, delimiter=',')\n",
    "\n",
    "\n",
    "def load_data(training_data_file=TRAINING_DATA, testing_data_file=TESTING_DATA):\n",
    "    data_training = load_csv(training_data_file)\n",
    "    data_testing = load_csv(testing_data_file)\n",
    "    \n",
    "    features_training = data_training[0]\n",
    "    features_testing = data_testing[0]\n",
    "    \n",
    "    assert(np.array_equal(features_training, features_testing))\n",
    "    \n",
    "    features = features_training\n",
    "    data_set_tr = data_training[1:]\n",
    "    data_set_te = data_testing[1:]\n",
    "    \n",
    "    return features, data_set_tr, data_set_te\n"
   ]
  },
  {
   "cell_type": "code",
   "execution_count": 3,
   "metadata": {
    "collapsed": true
   },
   "outputs": [],
   "source": [
    "def estimate(tau, features, training):\n",
    "    w_tau = hm1b.weightM(tau)\n",
    "    return hm1c.SpectrumModel(training, features, w_tau)\n",
    "\n",
    "\n",
    "def estimates(taus, features, training):\n",
    "    models = {}\n",
    "    for tau in taus:\n",
    "        models[tau] = estimate(tau, features, training)\n",
    "        \n",
    "    return models"
   ]
  },
  {
   "cell_type": "code",
   "execution_count": 4,
   "metadata": {
    "scrolled": false
   },
   "outputs": [],
   "source": [
    "tau = 5\n",
    "features, training, testing = load_data()\n",
    "mtr = estimate(tau, features, training)\n",
    "mte = estimate(tau, features, testing)"
   ]
  },
  {
   "cell_type": "code",
   "execution_count": 31,
   "metadata": {},
   "outputs": [],
   "source": [
    "def d(f1, f2, z):\n",
    "    diff = f1(z) - f2(z)\n",
    "    return diff.T.dot(diff)\n",
    "\n",
    "def d_evaled(fs, f):\n",
    "    try:\n",
    "        rows = len(fs)\n",
    "    except:\n",
    "        rows = 1\n",
    "    \n",
    "    v = np.zeros(len(fs))\n",
    "    for i in range(rows):\n",
    "        diff = fs[i] - f\n",
    "        v[i] = diff.T.dot(diff)\n",
    "    \n",
    "    return v\n",
    "\n",
    "ker = np.vectorize(lambda t: max(1-t, 0))\n",
    "\n",
    "def right(f, features):\n",
    "    r = np.where(features == RIGHT_FREQ)\n",
    "    assert(r)\n",
    "    return f[:,r[0][0]:]\n",
    "\n",
    "    \n",
    "def left(f, features):\n",
    "    l = np.where(features == RIGHT_FREQ)\n",
    "    assert(l)\n",
    "    return f[:,:l[0][0]]\n",
    "\n",
    "\n",
    "def h(gs, f, features):\n",
    "    v = np.zeros(len(gs))\n",
    "    for i in range(len(gs)):\n",
    "        v[i] = d(gs[i], f, features)\n",
    "        \n",
    "    return np.max(v)\n",
    "\n",
    "\n",
    "def h_evaled(gs, f):\n",
    "    v = d_evaled(gs, f)\n",
    "    return np.max(v)\n",
    "\n",
    "\n",
    "def neighb(k, fs, f_right):    \n",
    "    assert(k <= len(fs))\n",
    "    costs = d_evaled(fs, f_right)\n",
    "    # Get the indices of the k lowest cost functions by index.\n",
    "    k_indices = costs.argsort()[:k]\n",
    "    fs[k_indices]\n",
    "        \n",
    "    return fs[k_indices]\n"
   ]
  },
  {
   "cell_type": "code",
   "execution_count": 6,
   "metadata": {},
   "outputs": [],
   "source": [
    "mtr_eval = mtr(features)"
   ]
  },
  {
   "cell_type": "code",
   "execution_count": 7,
   "metadata": {},
   "outputs": [
    {
     "data": {
      "text/plain": [
       "(200, 450)"
      ]
     },
     "execution_count": 7,
     "metadata": {},
     "output_type": "execute_result"
    }
   ],
   "source": [
    "mtr_eval.shape"
   ]
  },
  {
   "cell_type": "code",
   "execution_count": 8,
   "metadata": {},
   "outputs": [],
   "source": [
    "he = h_evaled(mtr_eval, mtr_eval[0])"
   ]
  },
  {
   "cell_type": "code",
   "execution_count": 27,
   "metadata": {
    "collapsed": true
   },
   "outputs": [],
   "source": [
    "neighb3 = neighb(3)"
   ]
  },
  {
   "cell_type": "code",
   "execution_count": 10,
   "metadata": {},
   "outputs": [],
   "source": [
    "ker_coefs = ker(d_evaled(mtr_eval, mtr_eval[0])/he)"
   ]
  },
  {
   "cell_type": "code",
   "execution_count": 12,
   "metadata": {},
   "outputs": [
    {
     "data": {
      "text/plain": [
       "135.89154356193382"
      ]
     },
     "execution_count": 12,
     "metadata": {},
     "output_type": "execute_result"
    }
   ],
   "source": [
    "np.sum(ker_coefs)"
   ]
  },
  {
   "cell_type": "code",
   "execution_count": 13,
   "metadata": {},
   "outputs": [
    {
     "ename": "NameError",
     "evalue": "name 've' is not defined",
     "output_type": "error",
     "traceback": [
      "\u001b[0;31m---------------------------------------------------------------------------\u001b[0m",
      "\u001b[0;31mNameError\u001b[0m                                 Traceback (most recent call last)",
      "\u001b[0;32m<ipython-input-13-ad949251b31d>\u001b[0m in \u001b[0;36m<module>\u001b[0;34m()\u001b[0m\n\u001b[0;32m----> 1\u001b[0;31m \u001b[0mnp\u001b[0m\u001b[0;34m.\u001b[0m\u001b[0msum\u001b[0m\u001b[0;34m(\u001b[0m\u001b[0mve\u001b[0m\u001b[0;34m/\u001b[0m\u001b[0mnp\u001b[0m\u001b[0;34m.\u001b[0m\u001b[0msum\u001b[0m\u001b[0;34m(\u001b[0m\u001b[0mve\u001b[0m\u001b[0;34m)\u001b[0m\u001b[0;34m)\u001b[0m\u001b[0;34m\u001b[0m\u001b[0m\n\u001b[0m",
      "\u001b[0;31mNameError\u001b[0m: name 've' is not defined"
     ]
    }
   ],
   "source": [
    "np.sum(ve/np.sum(ve))"
   ]
  },
  {
   "cell_type": "code",
   "execution_count": 14,
   "metadata": {},
   "outputs": [],
   "source": [
    "mtr_eval_left = left(mtr_eval, features)\n",
    "mtr_eval_right = right(mtr_eval, features)"
   ]
  },
  {
   "cell_type": "code",
   "execution_count": 15,
   "metadata": {
    "collapsed": true
   },
   "outputs": [],
   "source": [
    "ker_sum = np.sum(ker_coefs)"
   ]
  },
  {
   "cell_type": "code",
   "execution_count": 16,
   "metadata": {},
   "outputs": [
    {
     "data": {
      "text/plain": [
       "135.89154356193382"
      ]
     },
     "execution_count": 16,
     "metadata": {},
     "output_type": "execute_result"
    }
   ],
   "source": [
    "ker_sum"
   ]
  },
  {
   "cell_type": "code",
   "execution_count": 18,
   "metadata": {},
   "outputs": [],
   "source": [
    "estimator_vec = ((mtr_eval_left.T * ker_coefs).T)"
   ]
  },
  {
   "cell_type": "code",
   "execution_count": 19,
   "metadata": {},
   "outputs": [],
   "source": [
    "class Estimator():\n",
    "    def __init__(self, m_eval, f_right, features):\n",
    "        self.features = features\n",
    "        self.m_eval = m_eval\n",
    "        self.ker_sums = ker_sums\n",
    "        self.d_max = he\n",
    "        self.ker_coefs = ker_coefs"
   ]
  },
  {
   "cell_type": "code",
   "execution_count": 34,
   "metadata": {},
   "outputs": [
    {
     "data": {
      "text/plain": [
       "(3, 450)"
      ]
     },
     "execution_count": 34,
     "metadata": {},
     "output_type": "execute_result"
    }
   ],
   "source": [
    "neighb(3, mtr_eval, mtr_eval[0]).shape"
   ]
  },
  {
   "cell_type": "code",
   "execution_count": null,
   "metadata": {
    "collapsed": true
   },
   "outputs": [],
   "source": []
  }
 ],
 "metadata": {
  "kernelspec": {
   "display_name": "Python 3",
   "language": "python",
   "name": "python3"
  },
  "language_info": {
   "codemirror_mode": {
    "name": "ipython",
    "version": 3
   },
   "file_extension": ".py",
   "mimetype": "text/x-python",
   "name": "python",
   "nbconvert_exporter": "python",
   "pygments_lexer": "ipython3",
   "version": "3.6.1"
  }
 },
 "nbformat": 4,
 "nbformat_minor": 2
}
