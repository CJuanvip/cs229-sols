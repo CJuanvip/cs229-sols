{
 "cells": [
  {
   "cell_type": "markdown",
   "metadata": {},
   "source": [
    "# CS229 Machine Learning Exercise Homework 1 Problem 5b"
   ]
  },
  {
   "cell_type": "code",
   "execution_count": 1,
   "metadata": {
    "collapsed": true
   },
   "outputs": [],
   "source": [
    "import numpy as np\n",
    "import numpy.linalg as linalg\n",
    "import pandas as pd\n",
    "import matplotlib.pyplot as plt\n",
    "import matplotlib.colors as clrs"
   ]
  },
  {
   "cell_type": "markdown",
   "metadata": {},
   "source": [
    "### Part i"
   ]
  },
  {
   "cell_type": "markdown",
   "metadata": {},
   "source": [
    "The linear regression function below implements linear regression using the normal equations. We could also use some form of gradient descent to do this."
   ]
  },
  {
   "cell_type": "code",
   "execution_count": 2,
   "metadata": {
    "collapsed": true
   },
   "outputs": [],
   "source": [
    "def linear_regression(X, y):\n",
    "    return linalg.inv(X.T.dot(X)).dot(X.T).dot(y)"
   ]
  },
  {
   "cell_type": "markdown",
   "metadata": {},
   "source": [
    "Here we just load some data and get it into a form we can use."
   ]
  },
  {
   "cell_type": "code",
   "execution_count": 3,
   "metadata": {
    "collapsed": true
   },
   "outputs": [],
   "source": [
    "# Load the data\n",
    "data = np.loadtxt('quasar_train.csv', delimiter=',')"
   ]
  },
  {
   "cell_type": "code",
   "execution_count": 4,
   "metadata": {
    "collapsed": true
   },
   "outputs": [],
   "source": [
    "wavelengths = data[0]\n",
    "fluxes = data[1]\n",
    "ones = np.ones(fluxes.size)\n",
    "\n",
    "df_ones = pd.DataFrame(ones, columns=['xint'])\n",
    "df_wavelengths = pd.DataFrame(wavelengths, columns=['wavelength'])\n",
    "df_fluxes = pd.DataFrame(fluxes, columns=['flux'])\n",
    "\n",
    "df = pd.concat([df_ones, df_wavelengths, df_fluxes], axis=1)"
   ]
  },
  {
   "cell_type": "code",
   "execution_count": 5,
   "metadata": {
    "collapsed": true
   },
   "outputs": [],
   "source": [
    "X = pd.concat([df['xint'], df['wavelength']], axis=1)\n",
    "y = df['flux']\n",
    "x = X['wavelength']"
   ]
  },
  {
   "cell_type": "markdown",
   "metadata": {},
   "source": [
    "Performing linear regression on the first training example"
   ]
  },
  {
   "cell_type": "code",
   "execution_count": 6,
   "metadata": {
    "collapsed": true
   },
   "outputs": [],
   "source": [
    "theta = linear_regression(X, y)"
   ]
  },
  {
   "cell_type": "markdown",
   "metadata": {},
   "source": [
    "yields the following parameters:"
   ]
  },
  {
   "cell_type": "code",
   "execution_count": 7,
   "metadata": {},
   "outputs": [
    {
     "name": "stdout",
     "output_type": "stream",
     "text": [
      "theta = [  2.51339906e+00  -9.81122145e-04]\n"
     ]
    }
   ],
   "source": [
    "print('theta = {}'.format(theta))"
   ]
  },
  {
   "cell_type": "markdown",
   "metadata": {},
   "source": [
    "Now we wish to display the results for part i. Evaluate the model"
   ]
  },
  {
   "cell_type": "code",
   "execution_count": 8,
   "metadata": {
    "collapsed": true
   },
   "outputs": [],
   "source": [
    "p = np.poly1d([theta[1], theta[0]])\n",
    "z = np.linspace(x[0], x[x.shape[0]-1])"
   ]
  },
  {
   "cell_type": "markdown",
   "metadata": {
    "collapsed": true
   },
   "source": [
    "at a set of design points. Then plot the data set and the results of linear regression in the following figure:"
   ]
  },
  {
   "cell_type": "code",
   "execution_count": 9,
   "metadata": {},
   "outputs": [
    {
     "data": {
      "text/plain": [
       "<matplotlib.legend.Legend at 0x7f6047e6c1d0>"
      ]
     },
     "execution_count": 9,
     "metadata": {},
     "output_type": "execute_result"
    }
   ],
   "source": [
    "fig = plt.figure(1, figsize=(12,10))\n",
    "plt.xlabel('Wavelength (Angstroms)')\n",
    "plt.ylabel('Flux (Watts/m^2')\n",
    "plt.xticks(np.linspace(x[0], x[x.shape[0]-1], 10))\n",
    "plt.yticks(np.linspace(-1, 9, 11))\n",
    "scatter = plt.scatter(x, y, marker='+', color='purple', label='quasar data')\n",
    "reg = plt.plot(z, p(z), color='blue', label='regression line')\n",
    "plt.legend()"
   ]
  },
  {
   "cell_type": "markdown",
   "metadata": {},
   "source": [
    "and the results are in the following graph."
   ]
  },
  {
   "cell_type": "code",
   "execution_count": 10,
   "metadata": {},
   "outputs": [
    {
     "data": {
      "image/png": "[encoded data removed]",
      "text/plain": [
       "<matplotlib.figure.Figure at 0x7f60482ed9e8>"
      ]
     },
     "metadata": {},
     "output_type": "display_data"
    }
   ],
   "source": [
    "plt.show()"
   ]
  },
  {
   "cell_type": "markdown",
   "metadata": {},
   "source": [
    "### Part ii"
   ]
  },
  {
   "cell_type": "markdown",
   "metadata": {},
   "source": [
    "For the next part, we perform locally weighted linear regression on the data set with a gaussian weighting function. We use the parameters that follow."
   ]
  },
  {
   "cell_type": "code",
   "execution_count": 11,
   "metadata": {
    "collapsed": true
   },
   "outputs": [],
   "source": [
    "import homework1_5b as hm1b\n",
    "import importlib as im"
   ]
  },
  {
   "cell_type": "code",
   "execution_count": 12,
   "metadata": {
    "collapsed": true
   },
   "outputs": [],
   "source": [
    "Xtrain = X.as_matrix()\n",
    "ytrain = y.as_matrix()\n",
    "tau = 5"
   ]
  },
  {
   "cell_type": "markdown",
   "metadata": {},
   "source": [
    "Training the model yields the following results. Here we place the results into the same plot at the data in part i. The data in the following figure shows that the weighted linear regression algorithm better fits the data, especially in the region around wavelength = ~1225 Angstroms."
   ]
  },
  {
   "cell_type": "code",
   "execution_count": 13,
   "metadata": {},
   "outputs": [],
   "source": [
    "W = hm1b.weightM(tau, Xtrain)\n",
    "m = hm1b.LWLRModel(W, Xtrain, ytrain)"
   ]
  },
  {
   "cell_type": "code",
   "execution_count": 14,
   "metadata": {
    "scrolled": true
   },
   "outputs": [
    {
     "data": {
      "text/plain": [
       "<matplotlib.legend.Legend at 0x7f6047edf5f8>"
      ]
     },
     "execution_count": 14,
     "metadata": {},
     "output_type": "execute_result"
    }
   ],
   "source": [
    "z = np.linspace(x[0], x[x.shape[0]-1], 200)\n",
    "fig = plt.figure(1, figsize=(12,10))\n",
    "plt.xlabel('Wavelength (Angstroms)')\n",
    "plt.ylabel('Flux (Watts/m^2')\n",
    "plt.xticks(np.arange(x[0], x[x.shape[0]-1]+50, step=50))\n",
    "plt.yticks(np.arange(-1, 9, step=0.5))\n",
    "plot1 = plt.scatter(x, y, marker='+', color='black', label='quasar data')\n",
    "plot2 = plt.plot(z, p(z), color='blue', label='regression line')\n",
    "plot3 = plt.plot(z, m(z), color='red', label='tau = 5')\n",
    "plt.legend()"
   ]
  },
  {
   "cell_type": "code",
   "execution_count": 15,
   "metadata": {},
   "outputs": [
    {
     "data": {
      "image/png": "[encoded data removed]",
      "text/plain": [
       "<matplotlib.figure.Figure at 0x7f6047fe9dd8>"
      ]
     },
     "metadata": {},
     "output_type": "display_data"
    }
   ],
   "source": [
    "plt.show()"
   ]
  },
  {
   "cell_type": "markdown",
   "metadata": {},
   "source": [
    "### Part III"
   ]
  },
  {
   "cell_type": "markdown",
   "metadata": {},
   "source": [
    "Here we perform the same regression for more values of tau and plot the results."
   ]
  },
  {
   "cell_type": "code",
   "execution_count": 17,
   "metadata": {},
   "outputs": [],
   "source": [
    "taus = [1,5,10,100,1000]\n",
    "models = {}\n",
    "\n",
    "for tau in taus:\n",
    "    W = hm1b.weightM(tau, Xtrain)\n",
    "    models[tau] = hm1b.LWLRModel(W, Xtrain, ytrain)"
   ]
  },
  {
   "cell_type": "code",
   "execution_count": null,
   "metadata": {
    "collapsed": true
   },
   "outputs": [],
   "source": [
    "z = np.linspace(x[0], x[x.shape[0]-1], 200)\n",
    "fig = plt.figure(1, figsize=(12,10))\n",
    "plt.xlabel('Wavelength (Angstroms)')\n",
    "plt.ylabel('Flux (Watts/m^2')\n",
    "plt.xticks(np.arange(x[0], x[x.shape[0]-1]+50, step=50))\n",
    "plt.yticks(np.arange(-2, 9, step=0.5))\n",
    "plot1 = plt.scatter(x, y, marker='+', color='k', label='quasar data')\n",
    "plot4 = plt.plot(z, models[1](z), color='red', label='tau = 1') \n",
    "plot4 = plt.plot(z, models[5](z), color='blue', label='tau = 5') \n",
    "plot5 = plt.plot(z, models[10](z), color='green', label='tau = 10') \n",
    "plot6 = plt.plot(z, models[100](z), color='magenta', label='tau = 100') \n",
    "plot7 = plt.plot(z, models[1000](z), color='cyan', label='tau = 1000') \n",
    "plt.legend()"
   ]
  },
  {
   "cell_type": "code",
   "execution_count": null,
   "metadata": {
    "collapsed": true
   },
   "outputs": [],
   "source": [
    "plt.show()"
   ]
  },
  {
   "cell_type": "markdown",
   "metadata": {},
   "source": [
    "As tau increases, the curve flattens out and becomes more like unweighted linear regression. As tau increases, it begins overfitting the data and the variance increases."
   ]
  }
 ],
 "metadata": {
  "kernelspec": {
   "display_name": "Python 3",
   "language": "python",
   "name": "python3"
  },
  "language_info": {
   "codemirror_mode": {
    "name": "ipython",
    "version": 3
   },
   "file_extension": ".py",
   "mimetype": "text/x-python",
   "name": "python",
   "nbconvert_exporter": "python",
   "pygments_lexer": "ipython3",
   "version": "3.6.1"
  }
 },
 "nbformat": 4,
 "nbformat_minor": 2
}
