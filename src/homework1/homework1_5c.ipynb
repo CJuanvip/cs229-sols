{
 "cells": [
  {
   "cell_type": "markdown",
   "metadata": {},
   "source": [
    "# Problem 1.5c"
   ]
  },
  {
   "cell_type": "code",
   "execution_count": null,
   "metadata": {},
   "outputs": [],
   "source": [
    "import numpy as np\n",
    "import homework1_5b as hm1b\n",
    "import homework1_5c as hm1c\n",
    "import importlib as im\n",
    "import matplotlib.pyplot as plt\n",
    "\n",
    "TRAINING_DATA = 'quasar_train.csv'\n",
    "TESTING_DATA  = 'quasar_test.csv'\n",
    "RIGHT_FREQ = 1300\n",
    "LEFT_FREQ  = 1200"
   ]
  },
  {
   "cell_type": "code",
   "execution_count": null,
   "metadata": {
    "collapsed": true
   },
   "outputs": [],
   "source": [
    "def load_csv(file):\n",
    "    return np.loadtxt(file, delimiter=',')\n",
    "\n",
    "\n",
    "def load_data(training_data_file=TRAINING_DATA, testing_data_file=TESTING_DATA):\n",
    "    data_training = load_csv(training_data_file)\n",
    "    data_testing = load_csv(testing_data_file)\n",
    "    \n",
    "    features_training = data_training[0]\n",
    "    features_testing = data_testing[0]\n",
    "    \n",
    "    assert(np.array_equal(features_training, features_testing))\n",
    "    \n",
    "    features = features_training\n",
    "    data_set_tr = data_training[1:]\n",
    "    data_set_te = data_testing[1:]\n",
    "    \n",
    "    return features, data_set_tr, data_set_te\n"
   ]
  },
  {
   "cell_type": "code",
   "execution_count": null,
   "metadata": {
    "collapsed": true
   },
   "outputs": [],
   "source": [
    "def estimate(tau, features, training):\n",
    "    w_tau = hm1b.weightM(tau)\n",
    "    return hm1c.SpectrumModel(training, features, w_tau)\n",
    "\n",
    "\n",
    "def estimates(taus, features, training):\n",
    "    models = {}\n",
    "    for tau in taus:\n",
    "        models[tau] = estimate(tau, features, training)\n",
    "        \n",
    "    return models"
   ]
  },
  {
   "cell_type": "code",
   "execution_count": null,
   "metadata": {},
   "outputs": [],
   "source": [
    "def d(f1, f2, z):\n",
    "    diff = f1(z) - f2(z)\n",
    "    return diff.T.dot(diff)\n",
    "\n",
    "def d_evaled(fs, f):\n",
    "    try:\n",
    "        rows = len(fs)\n",
    "    except:\n",
    "        rows = 1\n",
    "    \n",
    "    v = np.zeros(len(fs))\n",
    "    for i in range(rows):\n",
    "        diff = fs[i] - f\n",
    "        v[i] = diff.T.dot(diff)\n",
    "    \n",
    "    return v\n",
    "\n",
    "ker = np.vectorize(lambda t: max(1-t, 0))\n",
    "\n",
    "def right(f, features):\n",
    "    r = np.where(features == RIGHT_FREQ)\n",
    "    assert(r)\n",
    "    return f[:,r[0][0]:]\n",
    "\n",
    "    \n",
    "def left(f, features):\n",
    "    l = np.where(features == LEFT_FREQ)\n",
    "    assert(l)\n",
    "    return f[:,:l[0][0]]\n",
    "\n",
    "\n",
    "def h(gs, f, features):\n",
    "    v = np.zeros(len(gs))\n",
    "    for i in range(len(gs)):\n",
    "        v[i] = d(gs[i], f, features)\n",
    "        \n",
    "    return np.max(v)\n",
    "\n",
    "\n",
    "def h_evaled(gs, f):\n",
    "    v = d_evaled(gs, f)\n",
    "    return np.max(v)\n",
    "\n",
    "\n",
    "def neighbk(k, fs, f_right):    \n",
    "    assert(k <= len(fs))\n",
    "    costs = d_evaled(fs, f_right)\n",
    "    # Get the indices of the k lowest cost functions by index.\n",
    "    k_indices = costs.argsort()[:k]\n",
    "        \n",
    "    #return fs[k_indices]\n",
    "    return k_indices\n",
    "\n",
    "def neighbk_vecs(k, fs, f_right):\n",
    "    return fs[neighbk(k, fs, f_right)]"
   ]
  },
  {
   "cell_type": "code",
   "execution_count": null,
   "metadata": {
    "collapsed": true
   },
   "outputs": [],
   "source": [
    "class SpectrumEstimator():\n",
    "    def __init__(self, m, m_eval_right, f_right, features):\n",
    "        self.features = features\n",
    "        self.f_right = f_right\n",
    "        self.m = m\n",
    "        self.m_eval_right = m_eval_right\n",
    "        self.d_max = h_evaled(m_eval_right, f_right)\n",
    "        self.ker_coefs = ker(d_evaled(m_eval_right, f_right) / self.d_max)\n",
    "        self.ker_sum = np.sum(self.ker_coefs[neighbk(3, m_eval_right, f_right)])\n",
    "        # The shape of m_eval_left will be smaller because we are evaluating \n",
    "        # on a subset of the data set.\n",
    "        self.series_coef_indices = neighbk(3, self.m_eval_right, self.f_right)\n",
    "        \n",
    "    def evaluate(self, x):\n",
    "        ker_coefs = self.ker_coefs[self.series_coef_indices]\n",
    "        f_lefts = left(self.m(x), self.features)[self.series_coef_indices]\n",
    "        return np.sum((ker_coefs * f_lefts.T).T, axis=0) / self.ker_sum\n",
    "        \n",
    "    def __call__(self, x):\n",
    "        return self.evaluate(x)\n",
    "  "
   ]
  },
  {
   "cell_type": "code",
   "execution_count": null,
   "metadata": {
    "collapsed": true
   },
   "outputs": [],
   "source": [
    "tau = 5\n",
    "features, training, testing = load_data()\n",
    "mtr = estimate(tau, features, training)\n",
    "mte = estimate(tau, features, testing)"
   ]
  },
  {
   "cell_type": "code",
   "execution_count": null,
   "metadata": {},
   "outputs": [],
   "source": [
    "mtr_eval = mtr(features)\n",
    "mtr_eval_right = right(mtr_eval, features)\n",
    "mtr_eval_left = left(mtr_eval, features)"
   ]
  },
  {
   "cell_type": "code",
   "execution_count": null,
   "metadata": {},
   "outputs": [],
   "source": [
    "def f_left_estimators(m_eval_right, features):\n",
    "    f_left = {}\n",
    "    for i in range(len(m_eval_right)):\n",
    "        f_left[i] = SpectrumEstimator(mtr, mtr_eval_right, m_eval_right[i], features)\n",
    "        \n",
    "    return f_left\n",
    "\n",
    "def f_left_estimator_evals(f_left_ests, features):\n",
    "    rows = len(f_left_ests)\n",
    "    cols = features.shape[0]\n",
    "    v = np.array((rows, cols))\n",
    "    for i in range(features.shape[0]):\n",
    "        v[i] = f_left_ests[i](features)\n",
    "        \n",
    "    return v"
   ]
  },
  {
   "cell_type": "code",
   "execution_count": null,
   "metadata": {
    "collapsed": true
   },
   "outputs": [],
   "source": [
    "def estimate_errors(m_eval_left, f_left, features):\n",
    "    return d_evaled(m_eval_left, f_left(features))\n",
    "\n",
    "def average_errors(m_eval_left, f_left, features):\n",
    "    return np.average(estimate_errors(m_eval_left, f_left, features))"
   ]
  },
  {
   "cell_type": "markdown",
   "metadata": {},
   "source": [
    "### Part 1.5.c.i"
   ]
  },
  {
   "cell_type": "code",
   "execution_count": null,
   "metadata": {},
   "outputs": [],
   "source": [
    "# Problem 1.5.c.i\n",
    "left_features = features[:np.where(features == 1200)[0][0]]\n",
    "f_left_ests_tr = f_left_estimators(mtr_eval_right, features)"
   ]
  },
  {
   "cell_type": "code",
   "execution_count": null,
   "metadata": {},
   "outputs": [],
   "source": [
    "f_left_evals = f_left_estimator_evals(f_left_ests, left_features)"
   ]
  },
  {
   "cell_type": "code",
   "execution_count": null,
   "metadata": {
    "collapsed": true
   },
   "outputs": [],
   "source": [
    "errors_tr = estimate_errors(mtr_eval_left, f_left_eval)\n",
    "avg_tr = np.average(errors_tr)"
   ]
  },
  {
   "cell_type": "code",
   "execution_count": null,
   "metadata": {},
   "outputs": [],
   "source": [
    "print('average training error = {}'.format(avg_tr))"
   ]
  },
  {
   "cell_type": "markdown",
   "metadata": {},
   "source": [
    "### Part 1.5.c.ii"
   ]
  },
  {
   "cell_type": "code",
   "execution_count": null,
   "metadata": {
    "collapsed": true
   },
   "outputs": [],
   "source": [
    "# Problem 1.5.c.ii\n",
    "mte_eval = mte(features)\n",
    "mte_eval_left = left(mte_eval, features)\n",
    "mte_eval_right = right(mte_eval, features)\n",
    "f_left_ests_te = f_left_estimators(mte_eval_right, features)\n",
    "f_left_evals_te = f_left_estimator_evals()\n",
    "errors_te = estimate_errors(mte_eval_left, f_left_eval)\n",
    "avg_te = np.average(errors_te)"
   ]
  },
  {
   "cell_type": "code",
   "execution_count": null,
   "metadata": {},
   "outputs": [],
   "source": [
    "print('average testing error = {}'.format(avg_te))"
   ]
  },
  {
   "cell_type": "code",
   "execution_count": null,
   "metadata": {},
   "outputs": [],
   "source": [
    "# Training example 1\n",
    "f0 = mte_eval[0]\n",
    "z = np.linspace(features[0], features[features.shape[0]-1], 500)\n",
    "flz0 = f_left_evals_te[0](z)"
   ]
  },
  {
   "cell_type": "code",
   "execution_count": null,
   "metadata": {},
   "outputs": [],
   "source": [
    "fig = plt.figure(1, figsize=(12,10))\n",
    "plt.xlabel('Wavelength (Angstroms)')\n",
    "plt.ylabel('Flux (Watts/m^2')\n",
    "plt.xticks(np.linspace(features[0], features[features.shape[0]-1], 10))\n",
    "plt.yticks(np.linspace(-1, 9, 11))\n",
    "scatter = plt.scatter(features, f0, marker='+', color='black', label='quasar data')\n",
    "reg0 = plt.plot(z, flz0, color='red', label='LWLR Regression line')\n",
    "plt.legend()"
   ]
  },
  {
   "cell_type": "code",
   "execution_count": null,
   "metadata": {},
   "outputs": [],
   "source": [
    "plt.show()"
   ]
  },
  {
   "cell_type": "code",
   "execution_count": null,
   "metadata": {},
   "outputs": [],
   "source": [
    "# Training example 6\n",
    "f5 = mte_eval[5]\n",
    "z = np.linspace(features[0], features[features.shape[0]-1], 500)\n",
    "flz5 = f_left_evals_te[5](z)"
   ]
  },
  {
   "cell_type": "code",
   "execution_count": null,
   "metadata": {},
   "outputs": [],
   "source": [
    "fig = plt.figure(1, figsize=(12,10))\n",
    "plt.xlabel('Wavelength (Angstroms)')\n",
    "plt.ylabel('Flux (Watts/m^2')\n",
    "plt.xticks(np.linspace(features[0], features[features.shape[0]-1], 10))\n",
    "plt.yticks(np.linspace(-1, 9, 11))\n",
    "scatter = plt.scatter(features, f5, marker='+', color='black', label='quasar data')\n",
    "reg1 = plt.plot(z, flz5, color='red', label='LWLR Regression line')\n",
    "plt.legend()"
   ]
  },
  {
   "cell_type": "code",
   "execution_count": null,
   "metadata": {},
   "outputs": [],
   "source": [
    "plt.show()"
   ]
  },
  {
   "cell_type": "code",
   "execution_count": null,
   "metadata": {
    "collapsed": true
   },
   "outputs": [],
   "source": []
  }
 ],
 "metadata": {
  "kernelspec": {
   "display_name": "Python 3",
   "language": "python",
   "name": "python3"
  },
  "language_info": {
   "codemirror_mode": {
    "name": "ipython",
    "version": 3
   },
   "file_extension": ".py",
   "mimetype": "text/x-python",
   "name": "python",
   "nbconvert_exporter": "python",
   "pygments_lexer": "ipython3",
   "version": "3.6.1"
  }
 },
 "nbformat": 4,
 "nbformat_minor": 2
}
